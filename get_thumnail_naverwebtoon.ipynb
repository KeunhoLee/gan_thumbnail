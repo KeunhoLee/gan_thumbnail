{
  "nbformat": 4,
  "nbformat_minor": 0,
  "metadata": {
    "colab": {
      "name": "get_thumnail_naverwebtoon.ipynb",
      "provenance": [],
      "collapsed_sections": [],
      "authorship_tag": "ABX9TyPP5xaF5qGGIX6ThhbGB6NM",
      "include_colab_link": true
    },
    "kernelspec": {
      "name": "python3",
      "display_name": "Python 3"
    }
  },
  "cells": [
    {
      "cell_type": "markdown",
      "metadata": {
        "id": "view-in-github",
        "colab_type": "text"
      },
      "source": [
        "<a href=\"https://colab.research.google.com/github/KeunhoLee/gan_thumbnail/blob/main/get_thumnail_naverwebtoon.ipynb\" target=\"_parent\"><img src=\"https://colab.research.google.com/assets/colab-badge.svg\" alt=\"Open In Colab\"/></a>"
      ]
    },
    {
      "cell_type": "code",
      "metadata": {
        "id": "yPv2XBEFJMtq"
      },
      "source": [
        "from bs4 import BeautifulSoup\r\n",
        "import requests\r\n",
        "import pandas as  pd\r\n",
        "import pickle\r\n",
        "from urllib.request import urlretrieve\r\n",
        "from tqdm import tqdm\r\n",
        "import time, random\r\n",
        "from google.colab import drive"
      ],
      "execution_count": 90,
      "outputs": []
    },
    {
      "cell_type": "code",
      "metadata": {
        "id": "Rhv4opCxRhv6"
      },
      "source": [
        "drive.mount('/content/gdrive/')"
      ],
      "execution_count": null,
      "outputs": []
    },
    {
      "cell_type": "markdown",
      "metadata": {
        "id": "qL7sZGBpNNGf"
      },
      "source": [
        "**추출대상 속성**\r\n",
        "1. 제목\r\n",
        "2. 페이지 링크\r\n",
        "  - 2.1 작가명\r\n",
        "  - 2.2 장르명\r\n",
        "  - 2.3 마지막화 날짜\r\n",
        "  - 2.4 첫화 날짜\r\n",
        "  - 2.5 작품소개 텍스트\r\n",
        "3. 썸네일 링크"
      ]
    },
    {
      "cell_type": "markdown",
      "metadata": {
        "id": "pAEiQ4TQSES8"
      },
      "source": [
        "### **웹툰 정보 Scraping**"
      ]
    },
    {
      "cell_type": "code",
      "metadata": {
        "id": "5OL_mbh6JXKf"
      },
      "source": [
        "base_url = \"https://comic.naver.com\"\r\n",
        "url = base_url + \"/webtoon/creation.nhn\""
      ],
      "execution_count": 36,
      "outputs": []
    },
    {
      "cell_type": "code",
      "metadata": {
        "id": "oVF6AU6DKoC-"
      },
      "source": [
        "html = requests.get(url)\r\n",
        "soup = BeautifulSoup(html.text, \"html.parser\")\r\n",
        "html.close()\r\n",
        "\r\n",
        "thumb_list = soup.findAll(\"div\", {\"class\": \"thumb\"})"
      ],
      "execution_count": 37,
      "outputs": []
    },
    {
      "cell_type": "code",
      "metadata": {
        "id": "Hk9UaN3-OcPd"
      },
      "source": [
        "result_list = []\r\n",
        "\r\n",
        "for i, t_l in enumerate(thumb_list):\r\n",
        "\r\n",
        "    tmp_dict = { \"id\" : i,  \r\n",
        "      \"page_link\" : base_url + t_l.findAll(\"a\")[0][\"href\"],\r\n",
        "      \"title\" : t_l.findAll(\"a\")[0][\"title\"],\r\n",
        "      \"thumbnail_link\" : t_l.findAll(\"a\")[0].find(\"img\")[\"src\"]\r\n",
        "    }\r\n",
        "\r\n",
        "    result_list.append(tmp_dict)"
      ],
      "execution_count": 69,
      "outputs": []
    },
    {
      "cell_type": "code",
      "metadata": {
        "id": "Ftgv55ScOLWr"
      },
      "source": [
        "webtoon_info = pd.DataFrame(result_list)\r\n",
        "with open('/content/gdrive/MyDrive/saap_pjt_1_thumbnail/webtoon_info.pickle', 'wb') as f:\r\n",
        "    pickle.dump(webtoon_info, f, pickle.HIGHEST_PROTOCOL)"
      ],
      "execution_count": 70,
      "outputs": []
    },
    {
      "cell_type": "code",
      "metadata": {
        "id": "IkCA9mKDR6-Q"
      },
      "source": [
        "# with open('/content/gdrive/MyDrive/saap_pjt_1_thumbnail/webtoon_info.pickle', 'rb') as f:\r\n",
        "#     webtoon_info = pickle.load(f)"
      ],
      "execution_count": 67,
      "outputs": []
    },
    {
      "cell_type": "code",
      "metadata": {
        "colab": {
          "base_uri": "https://localhost:8080/",
          "height": 97
        },
        "id": "GtKpRHEYSnSS",
        "outputId": "8ba9fbce-57ad-4458-fff4-e0fe064e6128"
      },
      "source": [
        "webtoon_info.head(1)"
      ],
      "execution_count": 72,
      "outputs": [
        {
          "output_type": "execute_result",
          "data": {
            "text/html": [
              "<div>\n",
              "<style scoped>\n",
              "    .dataframe tbody tr th:only-of-type {\n",
              "        vertical-align: middle;\n",
              "    }\n",
              "\n",
              "    .dataframe tbody tr th {\n",
              "        vertical-align: top;\n",
              "    }\n",
              "\n",
              "    .dataframe thead th {\n",
              "        text-align: right;\n",
              "    }\n",
              "</style>\n",
              "<table border=\"1\" class=\"dataframe\">\n",
              "  <thead>\n",
              "    <tr style=\"text-align: right;\">\n",
              "      <th></th>\n",
              "      <th>id</th>\n",
              "      <th>page_link</th>\n",
              "      <th>title</th>\n",
              "      <th>thumbnail_link</th>\n",
              "    </tr>\n",
              "  </thead>\n",
              "  <tbody>\n",
              "    <tr>\n",
              "      <th>0</th>\n",
              "      <td>0</td>\n",
              "      <td>https://comic.naver.com/webtoon//webtoon/list....</td>\n",
              "      <td>가난을 등에 업은 소녀</td>\n",
              "      <td>https://shared-comic.pstatic.net/thumb/webtoon...</td>\n",
              "    </tr>\n",
              "  </tbody>\n",
              "</table>\n",
              "</div>"
            ],
            "text/plain": [
              "   id  ...                                     thumbnail_link\n",
              "0   0  ...  https://shared-comic.pstatic.net/thumb/webtoon...\n",
              "\n",
              "[1 rows x 4 columns]"
            ]
          },
          "metadata": {
            "tags": []
          },
          "execution_count": 72
        }
      ]
    },
    {
      "cell_type": "code",
      "metadata": {
        "colab": {
          "base_uri": "https://localhost:8080/"
        },
        "id": "yAleRJ-uL4GF",
        "outputId": "c683484d-548b-4fd5-a521-9efcd4fea2b5"
      },
      "source": [
        "# print('작품 갯수 : ',webtoon_info.shape[0])\r\n",
        "print('작품 갯수 : ',len(webtoon_info[\"title\"].unique()))"
      ],
      "execution_count": 78,
      "outputs": [
        {
          "output_type": "stream",
          "text": [
            "CPU times: user 3 µs, sys: 0 ns, total: 3 µs\n",
            "Wall time: 5.25 µs\n",
            "작품 갯수 :  1260\n"
          ],
          "name": "stdout"
        }
      ]
    },
    {
      "cell_type": "markdown",
      "metadata": {
        "id": "sti_es8rSR-R"
      },
      "source": [
        "### **썸네일 다운로드**\r\n",
        "\r\n",
        "두번 실행할 필요 없음, IP밴 주의할 것"
      ]
    },
    {
      "cell_type": "code",
      "metadata": {
        "colab": {
          "base_uri": "https://localhost:8080/"
        },
        "id": "Tj0fBCOkSRzK",
        "outputId": "7f2dad9a-a12b-4269-fe2e-d7b1690df652"
      },
      "source": [
        "%time\r\n",
        "mean_delay = 0.5 #IP밴을 막기위해 천천히 다운로드 평균 0.5초마다 1개씩 다운로드\r\n",
        "\r\n",
        "print(\"예상 다운로드 시간 : \", mean_delay*webtoon_info.shape[0], \" 초\")\r\n",
        "\r\n",
        "for i in tqdm(range(webtoon_info.shape[0])):\r\n",
        "  # print(img)\r\n",
        "\r\n",
        "  id = webtoon_info.id[i]\r\n",
        "  img_link = webtoon_info.thumbnail_link[i]\r\n",
        "\r\n",
        "  urlretrieve( img_link , \"/content/gdrive/MyDrive/saap_pjt_1_thumbnail/thumbnails/naver_id_\" + str(id) + \".jpg\")\r\n",
        "\r\n",
        "  time.sleep(random.expovariate(1/mean_delay))"
      ],
      "execution_count": 91,
      "outputs": [
        {
          "output_type": "stream",
          "text": [
            "\r  0%|          | 0/1010 [00:00<?, ?it/s]"
          ],
          "name": "stderr"
        },
        {
          "output_type": "stream",
          "text": [
            "CPU times: user 3 µs, sys: 1 µs, total: 4 µs\n",
            "Wall time: 7.15 µs\n",
            "예상 다운로드 시간 :  630.0  초\n"
          ],
          "name": "stdout"
        },
        {
          "output_type": "stream",
          "text": [
            "100%|██████████| 1010/1010 [20:14<00:00,  1.20s/it]\n"
          ],
          "name": "stderr"
        }
      ]
    },
    {
      "cell_type": "code",
      "metadata": {
        "id": "EGYz1Z3dKyAD"
      },
      "source": [
        ""
      ],
      "execution_count": null,
      "outputs": []
    }
  ]
}