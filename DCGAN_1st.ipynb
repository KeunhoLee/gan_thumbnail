{
  "nbformat": 4,
  "nbformat_minor": 0,
  "metadata": {
    "colab": {
      "name": "DCGAN_1st.ipynb",
      "provenance": [],
      "toc_visible": true,
      "authorship_tag": "ABX9TyMnJDq4IP2k9yN+GUtbyBhd",
      "include_colab_link": true
    },
    "kernelspec": {
      "name": "python3",
      "display_name": "Python 3"
    },
    "accelerator": "GPU"
  },
  "cells": [
    {
      "cell_type": "markdown",
      "metadata": {
        "id": "view-in-github",
        "colab_type": "text"
      },
      "source": [
        "<a href=\"https://colab.research.google.com/github/KeunhoLee/gan_thumbnail/blob/main/DCGAN_1st.ipynb\" target=\"_parent\"><img src=\"https://colab.research.google.com/assets/colab-badge.svg\" alt=\"Open In Colab\"/></a>"
      ]
    },
    {
      "cell_type": "code",
      "metadata": {
        "id": "zUlw-9VQdgQ2"
      },
      "source": [
        "import tensorflow as tf"
      ],
      "execution_count": 11,
      "outputs": []
    },
    {
      "cell_type": "code",
      "metadata": {
        "id": "LM2dEn9oRqty"
      },
      "source": [
        "tf.keras.backend.clear_session()"
      ],
      "execution_count": 12,
      "outputs": []
    },
    {
      "cell_type": "code",
      "metadata": {
        "colab": {
          "base_uri": "https://localhost:8080/",
          "height": 35
        },
        "id": "J_7L3UPfdg83",
        "outputId": "4204718c-4a58-4ca0-c13f-c05f1b1322d0"
      },
      "source": [
        "tf.__version__"
      ],
      "execution_count": 13,
      "outputs": [
        {
          "output_type": "execute_result",
          "data": {
            "application/vnd.google.colaboratory.intrinsic+json": {
              "type": "string"
            },
            "text/plain": [
              "'2.4.1'"
            ]
          },
          "metadata": {
            "tags": []
          },
          "execution_count": 13
        }
      ]
    },
    {
      "cell_type": "code",
      "metadata": {
        "id": "J-rCI2UXdiMl"
      },
      "source": [
        "import os.path\r\n",
        "import numpy as np\r\n",
        "from keras.models import * \r\n",
        "from keras.layers import * \r\n",
        "from keras.optimizers import * \r\n",
        "import keras.backend as K \r\n",
        "import matplotlib.pyplot as plt\r\n",
        "\r\n",
        "import os \r\n",
        "from PIL import Image\r\n"
      ],
      "execution_count": 14,
      "outputs": []
    },
    {
      "cell_type": "code",
      "metadata": {
        "id": "Wua44-rnd7tA"
      },
      "source": [
        "K.set_image_data_format('channels_last')"
      ],
      "execution_count": 15,
      "outputs": []
    },
    {
      "cell_type": "code",
      "metadata": {
        "id": "BAHqvXmzeL1I"
      },
      "source": [
        "class Gan: \r\n",
        "  def __init__(self, img_data): \r\n",
        "    img_size = img_data.shape[1]\r\n",
        "    img_size_2 = img_data.shape[2]\r\n",
        "    channel = img_data.shape[3] if len(img_data.shape) >= 4 else 1 \r\n",
        "    self.img_data = img_data \r\n",
        "    self.input_shape = (img_size, img_size_2, channel) \r\n",
        "    self.img_rows = img_size \r\n",
        "    self.img_cols = img_size_2 \r\n",
        "    self.channel = channel \r\n",
        "    self.noise_size = 100 \r\n",
        "    \r\n",
        "    # Create D and G. \r\n",
        "    self.create_d() \r\n",
        "    self.create_g() \r\n",
        "    \r\n",
        "    # Build model to train D. \r\n",
        "    optimizer = Adam(lr=0.0008) \r\n",
        "    self.D.compile(loss='binary_crossentropy', optimizer=optimizer)\r\n",
        "    \r\n",
        "    # Build model to train G. \r\n",
        "    optimizer = Adam(lr=0.0004) \r\n",
        "    self.D.trainable = False\r\n",
        "    self.AM = Sequential() \r\n",
        "    self.AM.add(self.G) \r\n",
        "    self.AM.add(self.D) \r\n",
        "    self.AM.compile(loss='binary_crossentropy', optimizer=optimizer)\r\n",
        "\r\n",
        "  def create_d(self):\r\n",
        "    self.D = Sequential()\r\n",
        "    depth = 64\r\n",
        "    dropout = 0.4 \r\n",
        "    self.D.add(Conv2D(depth*1, 5, strides=2, input_shape=self.input_shape, padding='same')) \r\n",
        "    self.D.add(LeakyReLU(alpha=0.2)) \r\n",
        "    self.D.add(Dropout(dropout)) \r\n",
        "    self.D.add(Conv2D(depth*2, 5, strides=2, padding='same')) \r\n",
        "    self.D.add(LeakyReLU(alpha=0.2)) \r\n",
        "    self.D.add(Dropout(dropout)) \r\n",
        "    self.D.add(Conv2D(depth*4, 5, strides=2, padding='same')) \r\n",
        "    self.D.add(LeakyReLU(alpha=0.2)) \r\n",
        "    self.D.add(Dropout(dropout)) \r\n",
        "    self.D.add(Conv2D(depth*8, 5, strides=1, padding='same')) \r\n",
        "    self.D.add(LeakyReLU(alpha=0.2)) \r\n",
        "    self.D.add(Dropout(dropout)) \r\n",
        "    self.D.add(Flatten()) \r\n",
        "    self.D.add(Dense(1)) \r\n",
        "    self.D.add(Activation('sigmoid')) \r\n",
        "    self.D.summary() \r\n",
        "    return self.D\r\n",
        "\r\n",
        "  def create_g(self):\r\n",
        "    self.G = Sequential()\r\n",
        "    dropout = 0.4\r\n",
        "    depth = 64+64+64+64\r\n",
        "    dim = 8 \r\n",
        "    self.G.add(Dense(dim*dim*depth, input_dim=self.noise_size)) \r\n",
        "    self.G.add(BatchNormalization(momentum=0.9)) \r\n",
        "    self.G.add(Activation('relu')) \r\n",
        "    self.G.add(Reshape((dim, dim, depth))) \r\n",
        "    self.G.add(Dropout(dropout)) \r\n",
        "    self.G.add(UpSampling2D()) \r\n",
        "    self.G.add(Conv2DTranspose(int(depth/2), 5, padding='same')) \r\n",
        "    self.G.add(BatchNormalization(momentum=0.9)) \r\n",
        "    self.G.add(Activation('relu')) \r\n",
        "    self.G.add(UpSampling2D()) \r\n",
        "    self.G.add(Conv2DTranspose(int(depth/4), 5, padding='same')) \r\n",
        "    self.G.add(BatchNormalization(momentum=0.9)) \r\n",
        "    self.G.add(Activation('relu')) \r\n",
        "    self.G.add(Conv2DTranspose(int(depth/8), 5, padding='same')) \r\n",
        "    self.G.add(BatchNormalization(momentum=0.9)) \r\n",
        "    self.G.add(Activation('relu')) \r\n",
        "    self.G.add(Conv2DTranspose(self.channel, 5, padding='same')) \r\n",
        "    self.G.add(Activation('sigmoid')) \r\n",
        "    self.G.summary() \r\n",
        "    return self.G\r\n",
        "  \r\n",
        "  def train(self, batch_size=100):   \r\n",
        "    # Pick image data randomly. \r\n",
        "    \r\n",
        "    images_train = self.img_data[np.random.randint(0, self.img_data.shape[0], size=batch_size), :, :, :] \r\n",
        "    \r\n",
        "    # Generate images from noise. \r\n",
        "    \r\n",
        "    noise = np.random.uniform(-1.0, 1.0, size=[batch_size, self.noise_size]) \r\n",
        "    images_fake = self.G.predict(noise) \r\n",
        "    \r\n",
        "    # Train D. \r\n",
        "    x = np.concatenate((images_train, images_fake)) \r\n",
        "    y = np.ones([2*batch_size, 1]) \r\n",
        "    y[batch_size:, :] = 0 \r\n",
        "    self.D.trainable = True \r\n",
        "    d_loss = self.D.train_on_batch(x, y) \r\n",
        "    \r\n",
        "    # Train G. \r\n",
        "    y = np.ones([batch_size, 1]) \r\n",
        "    noise = np.random.uniform(-1.0, 1.0, size=[batch_size, self.noise_size]) \r\n",
        "    self.D.trainable = False \r\n",
        "    a_loss = self.AM.train_on_batch(noise, y) \r\n",
        "    \r\n",
        "    return d_loss, a_loss, images_fake\r\n",
        "\r\n",
        "  def predict(self, noise):\r\n",
        "    return self.G.predict(noise)\r\n",
        "\r\n",
        "  def save(self):\r\n",
        "    self.G.save_weights('/content/gdrive/MyDrive/saap_pjt_1_thumbnail/weights/gan_g_weights.h5') \r\n",
        "    self.D.save_weights('/content/gdrive/MyDrive/saap_pjt_1_thumbnail/weights/gan_d_weights.h5')\r\n",
        "\r\n",
        "  def load(self):\r\n",
        "    if os.path.isfile('/content/gdrive/MyDrive/saap_pjt_1_thumbnail/weights/gan_g_weights.h5'):\r\n",
        "      self.G.load_weights('/content/gdrive/MyDrive/saap_pjt_1_thumbnail/weights/gan_g_weights.h5') \r\n",
        "      print(\"Load G from file.\") \r\n",
        "\r\n",
        "    if os.path.isfile('gan_d_weights.h5'): \r\n",
        "      self.D.load_weights('gan_d_weights.h5') \r\n",
        "      print(\"Load D from file.\")\r\n",
        "\r\n",
        "class NaverData(): \r\n",
        "  def __init__(self): \r\n",
        "    img_data_list = [] \r\n",
        "    err_cnt1=0\r\n",
        "    err_cnt2=0\r\n",
        "    images = os.listdir(\"/content/gdrive/MyDrive/saap_pjt_1_thumbnail/thumbnails_resize\") #naver_id_\" + str(id) + \".jpg\r\n",
        "    for i, path in enumerate(images): \r\n",
        "\r\n",
        "      title, ext = os.path.splitext(path)\r\n",
        "      if ext not in ['.jpg']:\r\n",
        "        continue\r\n",
        "      \r\n",
        "      try:\r\n",
        "        img = Image.open(\"/content/gdrive/MyDrive/saap_pjt_1_thumbnail/thumbnails_resize/\" + path) \r\n",
        "      except:\r\n",
        "        err_cnt1+=1\r\n",
        "       \r\n",
        "      if np.array(img).shape != (32,32,3):\r\n",
        "        err_cnt2 += 1\r\n",
        "        continue\r\n",
        "      \r\n",
        "      img_data_list.append([np.array(img).astype('float32')]) \r\n",
        "      # print(np.array(img).shape)\r\n",
        "      \r\n",
        "    try:\r\n",
        "      self.x_train = np.vstack(img_data_list) / 255.0 \r\n",
        "    except ValueError as e:\r\n",
        "      err_cnt2 += 1 \r\n",
        "      print(path + \" Error : \", e)\r\n",
        "    # print(self.x_train.shape)\r\n",
        "    print(err_cnt1, \"error occured.\")\r\n",
        "    print(err_cnt2, \"error occured.\")\r\n"
      ],
      "execution_count": 16,
      "outputs": []
    },
    {
      "cell_type": "code",
      "metadata": {
        "colab": {
          "base_uri": "https://localhost:8080/"
        },
        "id": "HLQvahbwhNrp",
        "outputId": "dd9ec093-64dc-4094-c3d4-5c32593001b5"
      },
      "source": [
        "from google.colab import drive\r\n",
        "drive.mount('/content/gdrive/')"
      ],
      "execution_count": 5,
      "outputs": [
        {
          "output_type": "stream",
          "text": [
            "Mounted at /content/gdrive/\n"
          ],
          "name": "stdout"
        }
      ]
    },
    {
      "cell_type": "code",
      "metadata": {
        "id": "ObDX-Q9yhwO5"
      },
      "source": [
        "# import os \r\n",
        "# from PIL import Image \r\n",
        "# images = os.listdir(\"/content/gdrive/MyDrive/saap_pjt_1_thumbnail/thumbnails\") \r\n",
        "# err_cnt = 0\r\n",
        "\r\n",
        "# for i, name in enumerate(images): \r\n",
        "#   # print(i)\r\n",
        "#   try:\r\n",
        "#     img = Image.open(\"/content/gdrive/MyDrive/saap_pjt_1_thumbnail/thumbnails/\" + name)\r\n",
        "#     img_resize = img.resize((32, 32), Image.ANTIALIAS)\r\n",
        "#     img_resize.save(f'/content/gdrive/MyDrive/saap_pjt_1_thumbnail/thumbnails_resize/naver_id_{i}.jpg')\r\n",
        "#   except:\r\n",
        "#     err_cnt += 1"
      ],
      "execution_count": null,
      "outputs": []
    },
    {
      "cell_type": "code",
      "metadata": {
        "colab": {
          "base_uri": "https://localhost:8080/"
        },
        "id": "tgdR-vZJhI65",
        "outputId": "1e31f073-1287-4e80-8ebb-b36b91b73021"
      },
      "source": [
        "dataset = NaverData()"
      ],
      "execution_count": 17,
      "outputs": [
        {
          "output_type": "stream",
          "text": [
            "47 error occured.\n",
            "4 error occured.\n"
          ],
          "name": "stdout"
        }
      ]
    },
    {
      "cell_type": "code",
      "metadata": {
        "id": "SnZgeM9Ro5gb"
      },
      "source": [
        "# Load dataset.\r\n",
        "# dataset = PokemonData() \r\n",
        "x_train = dataset.x_train \r\n",
        "\r\n",
        "import pickle\r\n",
        "\r\n",
        "with open('/content/gdrive/MyDrive/saap_pjt_1_thumbnail/data_32_32.pickle', 'wb') as f:\r\n",
        "    pickle.dump(x_train, f, pickle.HIGHEST_PROTOCOL)"
      ],
      "execution_count": 18,
      "outputs": []
    },
    {
      "cell_type": "code",
      "metadata": {
        "colab": {
          "base_uri": "https://localhost:8080/"
        },
        "id": "eRfVU2ue2_xG",
        "outputId": "55d66cf0-c436-4b97-cffa-43d29ff6317c"
      },
      "source": [
        "x_train.shape"
      ],
      "execution_count": 19,
      "outputs": [
        {
          "output_type": "execute_result",
          "data": {
            "text/plain": [
              "(1256, 32, 32, 3)"
            ]
          },
          "metadata": {
            "tags": []
          },
          "execution_count": 19
        }
      ]
    },
    {
      "cell_type": "code",
      "metadata": {
        "colab": {
          "base_uri": "https://localhost:8080/"
        },
        "id": "Xn7uoCd0pUjh",
        "outputId": "1e991186-847f-40e8-d0b2-9513a9bd8453"
      },
      "source": [
        "# Init network \r\n",
        "\r\n",
        "gan = Gan(x_train) \r\n",
        "# gan.load()"
      ],
      "execution_count": 32,
      "outputs": [
        {
          "output_type": "stream",
          "text": [
            "Model: \"sequential_3\"\n",
            "_________________________________________________________________\n",
            "Layer (type)                 Output Shape              Param #   \n",
            "=================================================================\n",
            "conv2d_4 (Conv2D)            (None, 16, 16, 64)        4864      \n",
            "_________________________________________________________________\n",
            "leaky_re_lu_4 (LeakyReLU)    (None, 16, 16, 64)        0         \n",
            "_________________________________________________________________\n",
            "dropout_5 (Dropout)          (None, 16, 16, 64)        0         \n",
            "_________________________________________________________________\n",
            "conv2d_5 (Conv2D)            (None, 8, 8, 128)         204928    \n",
            "_________________________________________________________________\n",
            "leaky_re_lu_5 (LeakyReLU)    (None, 8, 8, 128)         0         \n",
            "_________________________________________________________________\n",
            "dropout_6 (Dropout)          (None, 8, 8, 128)         0         \n",
            "_________________________________________________________________\n",
            "conv2d_6 (Conv2D)            (None, 4, 4, 256)         819456    \n",
            "_________________________________________________________________\n",
            "leaky_re_lu_6 (LeakyReLU)    (None, 4, 4, 256)         0         \n",
            "_________________________________________________________________\n",
            "dropout_7 (Dropout)          (None, 4, 4, 256)         0         \n",
            "_________________________________________________________________\n",
            "conv2d_7 (Conv2D)            (None, 4, 4, 512)         3277312   \n",
            "_________________________________________________________________\n",
            "leaky_re_lu_7 (LeakyReLU)    (None, 4, 4, 512)         0         \n",
            "_________________________________________________________________\n",
            "dropout_8 (Dropout)          (None, 4, 4, 512)         0         \n",
            "_________________________________________________________________\n",
            "flatten_1 (Flatten)          (None, 8192)              0         \n",
            "_________________________________________________________________\n",
            "dense_2 (Dense)              (None, 1)                 8193      \n",
            "_________________________________________________________________\n",
            "activation_6 (Activation)    (None, 1)                 0         \n",
            "=================================================================\n",
            "Total params: 4,314,753\n",
            "Trainable params: 4,314,753\n",
            "Non-trainable params: 0\n",
            "_________________________________________________________________\n",
            "Model: \"sequential_4\"\n",
            "_________________________________________________________________\n",
            "Layer (type)                 Output Shape              Param #   \n",
            "=================================================================\n",
            "dense_3 (Dense)              (None, 16384)             1654784   \n",
            "_________________________________________________________________\n",
            "batch_normalization_4 (Batch (None, 16384)             65536     \n",
            "_________________________________________________________________\n",
            "activation_7 (Activation)    (None, 16384)             0         \n",
            "_________________________________________________________________\n",
            "reshape_1 (Reshape)          (None, 8, 8, 256)         0         \n",
            "_________________________________________________________________\n",
            "dropout_9 (Dropout)          (None, 8, 8, 256)         0         \n",
            "_________________________________________________________________\n",
            "up_sampling2d_2 (UpSampling2 (None, 16, 16, 256)       0         \n",
            "_________________________________________________________________\n",
            "conv2d_transpose_4 (Conv2DTr (None, 16, 16, 128)       819328    \n",
            "_________________________________________________________________\n",
            "batch_normalization_5 (Batch (None, 16, 16, 128)       512       \n",
            "_________________________________________________________________\n",
            "activation_8 (Activation)    (None, 16, 16, 128)       0         \n",
            "_________________________________________________________________\n",
            "up_sampling2d_3 (UpSampling2 (None, 32, 32, 128)       0         \n",
            "_________________________________________________________________\n",
            "conv2d_transpose_5 (Conv2DTr (None, 32, 32, 64)        204864    \n",
            "_________________________________________________________________\n",
            "batch_normalization_6 (Batch (None, 32, 32, 64)        256       \n",
            "_________________________________________________________________\n",
            "activation_9 (Activation)    (None, 32, 32, 64)        0         \n",
            "_________________________________________________________________\n",
            "conv2d_transpose_6 (Conv2DTr (None, 32, 32, 32)        51232     \n",
            "_________________________________________________________________\n",
            "batch_normalization_7 (Batch (None, 32, 32, 32)        128       \n",
            "_________________________________________________________________\n",
            "activation_10 (Activation)   (None, 32, 32, 32)        0         \n",
            "_________________________________________________________________\n",
            "conv2d_transpose_7 (Conv2DTr (None, 32, 32, 3)         2403      \n",
            "_________________________________________________________________\n",
            "activation_11 (Activation)   (None, 32, 32, 3)         0         \n",
            "=================================================================\n",
            "Total params: 2,799,043\n",
            "Trainable params: 2,765,827\n",
            "Non-trainable params: 33,216\n",
            "_________________________________________________________________\n"
          ],
          "name": "stdout"
        }
      ]
    },
    {
      "cell_type": "code",
      "metadata": {
        "colab": {
          "base_uri": "https://localhost:8080/",
          "height": 1000
        },
        "id": "km6gr0VBsIf6",
        "outputId": "e40ad77f-4cbb-432a-f7ff-66d6421cfb24"
      },
      "source": [
        "# Some parameters. \r\n",
        "epochs = 5000\r\n",
        "sample_size = 10 \r\n",
        "batch_size = 100\r\n",
        "train_per_epoch = x_train.shape[0] // batch_size\r\n",
        "gen_imgs = {}\r\n",
        "\r\n",
        "for epoch in range(0, epochs): \r\n",
        "  total_d_loss = 0.0 \r\n",
        "  total_a_loss = 0.0 \r\n",
        "  imgs = None \r\n",
        "  \r\n",
        "  for batch in range(0, train_per_epoch): \r\n",
        "    d_loss, a_loss, t_imgs = gan.train(batch_size) \r\n",
        "    total_d_loss += d_loss \r\n",
        "    total_a_loss += a_loss \r\n",
        "    \r\n",
        "    if imgs is None:\r\n",
        "      imgs = t_imgs\r\n",
        "  \r\n",
        "\r\n",
        "  if epoch % 20 == 0 or epoch == epochs - 1: \r\n",
        "    total_d_loss /= train_per_epoch \r\n",
        "    total_a_loss /= train_per_epoch \r\n",
        "    gen_imgs[epoch] = imgs\r\n",
        "    print(\"Epoch: {}, D Loss: {}, AM Loss: {}\" .format(epoch, total_d_loss, total_a_loss))\r\n",
        "\r\n",
        "# Show generated images. \r\n",
        "\r\n",
        "fig, ax = plt.subplots(1, sample_size, figsize=(sample_size, 1)) \r\n",
        "for i in range(0, sample_size): \r\n",
        "  ax[i].set_axis_off() \r\n",
        "  ax[i].imshow(imgs[i].reshape((gan.img_rows, gan.img_cols, gan.channel)), interpolation='nearest'); \r\n",
        "plt.show() \r\n",
        "plt.close(fig); \r\n",
        "  \r\n",
        "# Save weights \r\n",
        "# gan.save()"
      ],
      "execution_count": 33,
      "outputs": [
        {
          "output_type": "stream",
          "text": [
            "Epoch: 0, D Loss: 0.6185259247819582, AM Loss: 0.37910956010455266\n",
            "Epoch: 20, D Loss: 0.14753673039376736, AM Loss: 3.608571211496989\n",
            "Epoch: 40, D Loss: 0.4525166427095731, AM Loss: 1.2621611058712006\n",
            "Epoch: 60, D Loss: 0.14185516287883124, AM Loss: 2.2838765382766724\n",
            "Epoch: 80, D Loss: 0.34462376683950424, AM Loss: 2.1077106297016144\n",
            "Epoch: 100, D Loss: 0.544980525970459, AM Loss: 1.771423598130544\n",
            "Epoch: 120, D Loss: 0.20624537207186222, AM Loss: 4.255620022614797\n",
            "Epoch: 140, D Loss: 0.20967140545447668, AM Loss: 3.400459965070089\n",
            "Epoch: 160, D Loss: 0.3978341569503148, AM Loss: 3.1416416565577188\n",
            "Epoch: 180, D Loss: 0.5521397950748602, AM Loss: 5.788524687290192\n",
            "Epoch: 200, D Loss: 0.4248397486905257, AM Loss: 3.3248048424720764\n",
            "Epoch: 220, D Loss: 0.23265779142578444, AM Loss: 3.4778252243995667\n",
            "Epoch: 240, D Loss: 0.4895612448453903, AM Loss: 1.8292966236670811\n",
            "Epoch: 260, D Loss: 0.16735932293037573, AM Loss: 4.873481810092926\n",
            "Epoch: 280, D Loss: 0.3052764895061652, AM Loss: 3.379248023033142\n",
            "Epoch: 300, D Loss: 0.35185937335093814, AM Loss: 2.974068343639374\n",
            "Epoch: 320, D Loss: 0.2603656053543091, AM Loss: 2.334207385778427\n",
            "Epoch: 340, D Loss: 0.35166188329458237, AM Loss: 2.519222984711329\n",
            "Epoch: 360, D Loss: 0.31187155346075696, AM Loss: 2.818302094936371\n",
            "Epoch: 380, D Loss: 0.23154674718777338, AM Loss: 3.8336945374806723\n",
            "Epoch: 400, D Loss: 0.22817736367384592, AM Loss: 3.1017411947250366\n",
            "Epoch: 420, D Loss: 0.19720210134983063, AM Loss: 3.5001966754595437\n",
            "Epoch: 440, D Loss: 0.21702430645624796, AM Loss: 3.571955362955729\n",
            "Epoch: 460, D Loss: 0.2838380013902982, AM Loss: 3.0666452248891196\n",
            "Epoch: 480, D Loss: 0.2860568289955457, AM Loss: 2.7937594751516976\n",
            "Epoch: 500, D Loss: 0.18806845818956694, AM Loss: 4.450337727864583\n",
            "Epoch: 520, D Loss: 0.2746276892721653, AM Loss: 3.250334898630778\n",
            "Epoch: 540, D Loss: 0.16367540632685026, AM Loss: 4.557518780231476\n",
            "Epoch: 560, D Loss: 0.29735490928093594, AM Loss: 3.0883455872535706\n",
            "Epoch: 580, D Loss: 0.19007821256915727, AM Loss: 4.315419356028239\n",
            "Epoch: 600, D Loss: 0.2847084254026413, AM Loss: 3.2345277468363443\n",
            "Epoch: 620, D Loss: 0.21323353176315626, AM Loss: 4.546236515045166\n",
            "Epoch: 640, D Loss: 0.2272938167055448, AM Loss: 3.619789203008016\n",
            "Epoch: 660, D Loss: 0.17189399028817812, AM Loss: 4.499066710472107\n",
            "Epoch: 680, D Loss: 0.2030294487873713, AM Loss: 4.023756623268127\n",
            "Epoch: 700, D Loss: 0.18693614626924196, AM Loss: 3.876753111680349\n",
            "Epoch: 720, D Loss: 0.21895359084010124, AM Loss: 4.3574285705884295\n",
            "Epoch: 740, D Loss: 0.20933232456445694, AM Loss: 4.789324680964152\n",
            "Epoch: 760, D Loss: 0.12645840334395567, AM Loss: 4.947516361872355\n",
            "Epoch: 780, D Loss: 0.16779836205144724, AM Loss: 4.901859005292256\n",
            "Epoch: 800, D Loss: 0.17175764528413615, AM Loss: 4.4942617019017534\n",
            "Epoch: 820, D Loss: 0.13149521996577582, AM Loss: 5.025851368904114\n",
            "Epoch: 840, D Loss: 0.16918852056066194, AM Loss: 5.245063026746114\n",
            "Epoch: 860, D Loss: 0.13989655735592046, AM Loss: 4.98474524418513\n",
            "Epoch: 880, D Loss: 0.14264021627604961, AM Loss: 5.399168252944946\n",
            "Epoch: 900, D Loss: 0.15092836879193783, AM Loss: 5.343659957249959\n",
            "Epoch: 920, D Loss: 0.18025211368997893, AM Loss: 5.736535747845967\n",
            "Epoch: 940, D Loss: 0.1392020396888256, AM Loss: 4.926876505215962\n",
            "Epoch: 960, D Loss: 0.16153907341261706, AM Loss: 5.273426214853923\n",
            "Epoch: 980, D Loss: 0.13910547271370888, AM Loss: 6.095622380574544\n",
            "Epoch: 1000, D Loss: 0.16944631623725095, AM Loss: 5.149320622285207\n",
            "Epoch: 1020, D Loss: 0.21226446765164533, AM Loss: 4.633852958679199\n",
            "Epoch: 1040, D Loss: 0.12464829503248136, AM Loss: 5.769227902094523\n",
            "Epoch: 1060, D Loss: 0.19826414622366428, AM Loss: 5.723951856295268\n",
            "Epoch: 1080, D Loss: 0.18267653261621794, AM Loss: 6.020224889119466\n",
            "Epoch: 1100, D Loss: 0.1295388654495279, AM Loss: 6.06704839070638\n",
            "Epoch: 1120, D Loss: 0.174801646421353, AM Loss: 5.66122289498647\n",
            "Epoch: 1140, D Loss: 0.17600863302747408, AM Loss: 5.918505867322286\n",
            "Epoch: 1160, D Loss: 0.1236789474884669, AM Loss: 6.491641998291016\n",
            "Epoch: 1180, D Loss: 0.11524842213839293, AM Loss: 6.327280441919963\n",
            "Epoch: 1200, D Loss: 0.15703157056123018, AM Loss: 6.664876341819763\n",
            "Epoch: 1220, D Loss: 0.17445646723111471, AM Loss: 5.531007409095764\n",
            "Epoch: 1240, D Loss: 0.12724582043786845, AM Loss: 6.958467205365499\n",
            "Epoch: 1260, D Loss: 0.1710162969926993, AM Loss: 5.542788585027059\n",
            "Epoch: 1280, D Loss: 0.17108004291852316, AM Loss: 5.860119740168254\n",
            "Epoch: 1300, D Loss: 0.15236432229479155, AM Loss: 6.156473835309346\n",
            "Epoch: 1320, D Loss: 0.1547296978533268, AM Loss: 6.242246627807617\n",
            "Epoch: 1340, D Loss: 0.1616626437753439, AM Loss: 6.555951833724976\n",
            "Epoch: 1360, D Loss: 0.14638391012946764, AM Loss: 5.908842245737712\n",
            "Epoch: 1380, D Loss: 0.12407643347978592, AM Loss: 5.8767497936884565\n",
            "Epoch: 1400, D Loss: 0.11102172825485468, AM Loss: 6.632031559944153\n",
            "Epoch: 1420, D Loss: 0.1490720734000206, AM Loss: 5.961917797724406\n",
            "Epoch: 1440, D Loss: 0.1694577025870482, AM Loss: 6.560058315594991\n",
            "Epoch: 1460, D Loss: 0.13641527481377125, AM Loss: 6.823737899462382\n",
            "Epoch: 1480, D Loss: 0.11761208499471347, AM Loss: 7.100931604703267\n",
            "Epoch: 1500, D Loss: 0.1446222917487224, AM Loss: 7.018212040265401\n",
            "Epoch: 1520, D Loss: 0.1528475619852543, AM Loss: 6.33328131834666\n",
            "Epoch: 1540, D Loss: 0.1562572537610928, AM Loss: 6.718400796254476\n",
            "Epoch: 1560, D Loss: 0.16833059365550676, AM Loss: 6.698142846425374\n",
            "Epoch: 1580, D Loss: 0.11350463548054297, AM Loss: 7.592509547869365\n",
            "Epoch: 1600, D Loss: 0.14144275709986687, AM Loss: 6.882262110710144\n",
            "Epoch: 1620, D Loss: 0.1083612924752136, AM Loss: 6.736828525861104\n",
            "Epoch: 1640, D Loss: 0.12688691463942328, AM Loss: 6.018177191416423\n",
            "Epoch: 1660, D Loss: 0.124317592009902, AM Loss: 6.821316401163737\n",
            "Epoch: 1680, D Loss: 0.12327998752395312, AM Loss: 7.354701558748881\n",
            "Epoch: 1700, D Loss: 0.11656538334985574, AM Loss: 6.623010277748108\n",
            "Epoch: 1720, D Loss: 0.15140029042959213, AM Loss: 7.057414134343465\n",
            "Epoch: 1740, D Loss: 0.14463667633632818, AM Loss: 7.343351602554321\n",
            "Epoch: 1760, D Loss: 0.1365317590534687, AM Loss: 6.96801773707072\n",
            "Epoch: 1780, D Loss: 0.1359534120808045, AM Loss: 7.282104412714641\n",
            "Epoch: 1800, D Loss: 0.18774957085649172, AM Loss: 8.091354330380758\n",
            "Epoch: 1820, D Loss: 0.10189081604282062, AM Loss: 7.4993436733881635\n",
            "Epoch: 1840, D Loss: 0.15541260844717422, AM Loss: 6.824261387189229\n",
            "Epoch: 1860, D Loss: 0.13447549225141606, AM Loss: 6.832939982414246\n",
            "Epoch: 1880, D Loss: 0.20118226918081442, AM Loss: 7.823391437530518\n",
            "Epoch: 1900, D Loss: 0.21188898074130216, AM Loss: 8.018125057220459\n",
            "Epoch: 1920, D Loss: 0.12864718151589236, AM Loss: 6.3107432921727495\n",
            "Epoch: 1940, D Loss: 0.1560337021946907, AM Loss: 6.378531813621521\n",
            "Epoch: 1960, D Loss: 0.15050454810261726, AM Loss: 6.859647830327352\n",
            "Epoch: 1980, D Loss: 0.20780660274128118, AM Loss: 6.946568648020427\n",
            "Epoch: 2000, D Loss: 0.18727811239659786, AM Loss: 7.0114327271779375\n",
            "Epoch: 2020, D Loss: 0.16706342560549578, AM Loss: 8.279910643895468\n",
            "Epoch: 2040, D Loss: 0.10874320442477863, AM Loss: 7.62826653321584\n",
            "Epoch: 2060, D Loss: 0.12274625773231189, AM Loss: 7.152570446332295\n",
            "Epoch: 2080, D Loss: 0.14449532454212508, AM Loss: 7.706686178843181\n",
            "Epoch: 2100, D Loss: 0.13090006882945696, AM Loss: 7.483046054840088\n",
            "Epoch: 2120, D Loss: 0.1633610495676597, AM Loss: 7.737792730331421\n",
            "Epoch: 2140, D Loss: 0.17435360079010329, AM Loss: 6.9649507602055865\n",
            "Epoch: 2160, D Loss: 0.1761805210262537, AM Loss: 7.642721056938171\n",
            "Epoch: 2180, D Loss: 0.13060371236254772, AM Loss: 7.535129149754842\n",
            "Epoch: 2200, D Loss: 0.14234823547303677, AM Loss: 7.439211964607239\n",
            "Epoch: 2220, D Loss: 0.11989135264108579, AM Loss: 7.750626643498738\n",
            "Epoch: 2240, D Loss: 0.11108324614663918, AM Loss: 7.147263487180074\n",
            "Epoch: 2260, D Loss: 0.1620359725008408, AM Loss: 7.550966779390971\n",
            "Epoch: 2280, D Loss: 0.13934695472319922, AM Loss: 7.461491783459981\n",
            "Epoch: 2300, D Loss: 0.17363894544541836, AM Loss: 7.401997327804565\n",
            "Epoch: 2320, D Loss: 0.1523127586891254, AM Loss: 6.94133726755778\n",
            "Epoch: 2340, D Loss: 0.15106805972754955, AM Loss: 7.646832307179769\n",
            "Epoch: 2360, D Loss: 0.14639248295376697, AM Loss: 7.708522001902263\n",
            "Epoch: 2380, D Loss: 0.18200455233454704, AM Loss: 7.871832489967346\n",
            "Epoch: 2400, D Loss: 0.15661852030704418, AM Loss: 7.84603222211202\n",
            "Epoch: 2420, D Loss: 0.16168923303484917, AM Loss: 8.073853969573975\n",
            "Epoch: 2440, D Loss: 0.13667347064862648, AM Loss: 7.959545930226644\n",
            "Epoch: 2460, D Loss: 0.1219010775287946, AM Loss: 7.765173991521199\n",
            "Epoch: 2480, D Loss: 0.14562375036378702, AM Loss: 7.52291198571523\n",
            "Epoch: 2500, D Loss: 0.19840998388826847, AM Loss: 7.752477049827576\n",
            "Epoch: 2520, D Loss: 0.10085908137261868, AM Loss: 8.614373604456583\n",
            "Epoch: 2540, D Loss: 0.20097838900983334, AM Loss: 7.8447461525599165\n",
            "Epoch: 2560, D Loss: 0.16160186907897392, AM Loss: 8.594499190648397\n",
            "Epoch: 2580, D Loss: 0.13279424794018269, AM Loss: 7.186226963996887\n",
            "Epoch: 2600, D Loss: 0.14073220702509084, AM Loss: 7.982283393541972\n",
            "Epoch: 2620, D Loss: 0.15328499612708887, AM Loss: 7.796343167622884\n",
            "Epoch: 2640, D Loss: 0.0852442616596818, AM Loss: 7.810651898384094\n",
            "Epoch: 2660, D Loss: 0.18415378530820212, AM Loss: 7.702487071355184\n",
            "Epoch: 2680, D Loss: 0.10937806001553933, AM Loss: 8.220275243123373\n",
            "Epoch: 2700, D Loss: 0.12366085437436898, AM Loss: 7.275577863057454\n",
            "Epoch: 2720, D Loss: 0.16979873180389404, AM Loss: 8.77846916516622\n",
            "Epoch: 2740, D Loss: 0.1267482809101542, AM Loss: 7.673584659894307\n",
            "Epoch: 2760, D Loss: 0.1888123263294498, AM Loss: 7.983216166496277\n",
            "Epoch: 2780, D Loss: 0.1025890667612354, AM Loss: 8.135173241297403\n",
            "Epoch: 2800, D Loss: 0.11352440528571606, AM Loss: 7.93376096089681\n",
            "Epoch: 2820, D Loss: 0.2081871914366881, AM Loss: 8.598676244417826\n",
            "Epoch: 2840, D Loss: 0.1624405619998773, AM Loss: 8.142377098401388\n",
            "Epoch: 2860, D Loss: 0.20498082414269447, AM Loss: 7.659240047136943\n",
            "Epoch: 2880, D Loss: 0.1610150709748268, AM Loss: 8.445428133010864\n",
            "Epoch: 2900, D Loss: 0.1941974007834991, AM Loss: 8.471331238746643\n",
            "Epoch: 2920, D Loss: 0.14353184029459953, AM Loss: 8.11612836519877\n",
            "Epoch: 2940, D Loss: 0.12394380227973063, AM Loss: 7.785756349563599\n",
            "Epoch: 2960, D Loss: 0.20574830720822015, AM Loss: 9.19027558962504\n",
            "Epoch: 2980, D Loss: 0.15385779334853092, AM Loss: 8.735664566357931\n",
            "Epoch: 3000, D Loss: 0.14435270428657532, AM Loss: 8.277064164479574\n",
            "Epoch: 3020, D Loss: 0.10947088710963726, AM Loss: 8.202672561009726\n",
            "Epoch: 3040, D Loss: 0.15738928566376367, AM Loss: 8.01695168018341\n",
            "Epoch: 3060, D Loss: 0.2293618886421124, AM Loss: 7.379490653673808\n",
            "Epoch: 3080, D Loss: 0.20728464300433794, AM Loss: 7.461087107658386\n",
            "Epoch: 3100, D Loss: 0.12948356537769237, AM Loss: 8.84009846051534\n",
            "Epoch: 3120, D Loss: 0.15327092415342727, AM Loss: 8.636736989021301\n",
            "Epoch: 3140, D Loss: 0.11478495256354411, AM Loss: 8.613189101219177\n",
            "Epoch: 3160, D Loss: 0.18201927530268827, AM Loss: 9.272434751192728\n",
            "Epoch: 3180, D Loss: 0.2014421516408523, AM Loss: 9.342272996902466\n",
            "Epoch: 3200, D Loss: 0.14564181926349798, AM Loss: 8.706484119097391\n",
            "Epoch: 3220, D Loss: 0.09043550832817952, AM Loss: 8.26480515797933\n",
            "Epoch: 3240, D Loss: 0.1428283459196488, AM Loss: 8.36589284737905\n",
            "Epoch: 3260, D Loss: 0.18328954838216305, AM Loss: 9.438191970189413\n",
            "Epoch: 3280, D Loss: 0.1332932934165001, AM Loss: 9.148660659790039\n",
            "Epoch: 3300, D Loss: 0.14035930981238684, AM Loss: 7.539231300354004\n",
            "Epoch: 3320, D Loss: 0.14021575885514417, AM Loss: 8.173259377479553\n",
            "Epoch: 3340, D Loss: 0.12122600991278887, AM Loss: 8.972628355026245\n",
            "Epoch: 3360, D Loss: 0.13961544881264368, AM Loss: 8.401603500048319\n",
            "Epoch: 3380, D Loss: 0.13213704464336237, AM Loss: 8.342940926551819\n",
            "Epoch: 3400, D Loss: 0.1484693012510737, AM Loss: 9.497664848963419\n",
            "Epoch: 3420, D Loss: 0.1465565919255217, AM Loss: 8.52238130569458\n",
            "Epoch: 3440, D Loss: 0.1619270220398903, AM Loss: 8.580263415972391\n",
            "Epoch: 3460, D Loss: 0.16439332875112692, AM Loss: 9.4246346950531\n",
            "Epoch: 3480, D Loss: 0.1879782509058714, AM Loss: 8.295502225557962\n",
            "Epoch: 3500, D Loss: 0.11689496754358213, AM Loss: 8.206733544667562\n",
            "Epoch: 3520, D Loss: 0.2028615934153398, AM Loss: 8.506457169850668\n",
            "Epoch: 3540, D Loss: 0.20420114509761333, AM Loss: 9.775955279668173\n",
            "Epoch: 3560, D Loss: 0.16033442815144858, AM Loss: 8.695768356323242\n",
            "Epoch: 3580, D Loss: 0.14371050397555032, AM Loss: 8.102845867474874\n",
            "Epoch: 3600, D Loss: 0.13356310175731778, AM Loss: 8.390775680541992\n",
            "Epoch: 3620, D Loss: 0.21171376605828604, AM Loss: 8.96820573012034\n",
            "Epoch: 3640, D Loss: 0.18111536217232546, AM Loss: 9.971193869908651\n",
            "Epoch: 3660, D Loss: 0.1749957495679458, AM Loss: 9.743493715922037\n",
            "Epoch: 3680, D Loss: 0.16337092717488608, AM Loss: 8.835632165273031\n",
            "Epoch: 3700, D Loss: 0.14736847090534866, AM Loss: 9.779862920443216\n",
            "Epoch: 3720, D Loss: 0.16385692544281483, AM Loss: 8.050010244051615\n",
            "Epoch: 3740, D Loss: 0.12833636409292618, AM Loss: 9.540947437286377\n",
            "Epoch: 3760, D Loss: 0.16928084815541902, AM Loss: 9.32951577504476\n",
            "Epoch: 3780, D Loss: 0.15150510581831136, AM Loss: 8.88364827632904\n",
            "Epoch: 3800, D Loss: 0.10537680238485336, AM Loss: 10.331452290217081\n",
            "Epoch: 3820, D Loss: 0.14711800093452135, AM Loss: 9.97519854704539\n",
            "Epoch: 3840, D Loss: 0.15633419528603554, AM Loss: 9.402498126029968\n",
            "Epoch: 3860, D Loss: 0.22532757620016733, AM Loss: 9.398784557978312\n",
            "Epoch: 3880, D Loss: 0.09489867479229967, AM Loss: 10.141685088475546\n",
            "Epoch: 3900, D Loss: 0.12650290255745253, AM Loss: 10.112315018971762\n",
            "Epoch: 3920, D Loss: 0.17846006651719412, AM Loss: 8.96899938583374\n",
            "Epoch: 3940, D Loss: 0.12933551147580147, AM Loss: 9.366150458653768\n",
            "Epoch: 3960, D Loss: 0.13043725490570068, AM Loss: 10.215718189875284\n",
            "Epoch: 3980, D Loss: 0.145300702812771, AM Loss: 9.419834852218628\n",
            "Epoch: 4000, D Loss: 0.16448375675827265, AM Loss: 8.782511274019877\n",
            "Epoch: 4020, D Loss: 0.14891158106426397, AM Loss: 10.472886403401693\n",
            "Epoch: 4040, D Loss: 0.1883972535530726, AM Loss: 9.102800488471985\n",
            "Epoch: 4060, D Loss: 0.11641467114289601, AM Loss: 10.334903081258139\n",
            "Epoch: 4080, D Loss: 0.09927348404501875, AM Loss: 9.29928191502889\n",
            "Epoch: 4100, D Loss: 0.18068133480846882, AM Loss: 9.716865539550781\n",
            "Epoch: 4120, D Loss: 0.1685944056759278, AM Loss: 9.804818312327066\n",
            "Epoch: 4140, D Loss: 0.17731125776966414, AM Loss: 9.614118099212646\n",
            "Epoch: 4160, D Loss: 0.15643256343901157, AM Loss: 9.401968479156494\n",
            "Epoch: 4180, D Loss: 0.21040125687917074, AM Loss: 10.023911476135254\n",
            "Epoch: 4200, D Loss: 0.11801537871360779, AM Loss: 9.606902996699015\n",
            "Epoch: 4220, D Loss: 0.17510930635035038, AM Loss: 11.0846954981486\n",
            "Epoch: 4240, D Loss: 0.2309903334826231, AM Loss: 10.233383297920227\n",
            "Epoch: 4260, D Loss: 0.1215085278575619, AM Loss: 9.905893484751383\n",
            "Epoch: 4280, D Loss: 0.16921632116039595, AM Loss: 9.345229864120483\n",
            "Epoch: 4300, D Loss: 0.116402809197704, AM Loss: 10.342132250467936\n",
            "Epoch: 4320, D Loss: 0.1733143050223589, AM Loss: 9.154248595237732\n",
            "Epoch: 4340, D Loss: 0.20574729268749556, AM Loss: 11.493747552235922\n",
            "Epoch: 4360, D Loss: 0.18694095313549042, AM Loss: 11.517032941182455\n",
            "Epoch: 4380, D Loss: 0.203701950609684, AM Loss: 9.095077315966288\n",
            "Epoch: 4400, D Loss: 0.19671840717395148, AM Loss: 9.270962794621786\n",
            "Epoch: 4420, D Loss: 0.12682571355253458, AM Loss: 9.638938705126444\n",
            "Epoch: 4440, D Loss: 0.14901581406593323, AM Loss: 10.212262471516928\n",
            "Epoch: 4460, D Loss: 0.11928141458580892, AM Loss: 10.260857264200846\n",
            "Epoch: 4480, D Loss: 0.18787982128560543, AM Loss: 10.068617304166159\n",
            "Epoch: 4500, D Loss: 0.11934687041987975, AM Loss: 9.947767575581869\n",
            "Epoch: 4520, D Loss: 0.1729962912698587, AM Loss: 9.015602151552836\n",
            "Epoch: 4540, D Loss: 0.19619735392431417, AM Loss: 11.741235415140787\n",
            "Epoch: 4560, D Loss: 0.13130371225997806, AM Loss: 9.310534954071045\n",
            "Epoch: 4580, D Loss: 0.16050617024302483, AM Loss: 10.185807148615519\n",
            "Epoch: 4600, D Loss: 0.2015568527082602, AM Loss: 9.144732554753622\n",
            "Epoch: 4620, D Loss: 0.1264729917359849, AM Loss: 9.993295669555664\n",
            "Epoch: 4640, D Loss: 0.14392885643367967, AM Loss: 10.339017550150553\n",
            "Epoch: 4660, D Loss: 0.1928758608798186, AM Loss: 10.622707764307657\n",
            "Epoch: 4680, D Loss: 0.15692203181485334, AM Loss: 9.856093168258667\n",
            "Epoch: 4700, D Loss: 0.2089396913846334, AM Loss: 10.878974676132202\n",
            "Epoch: 4720, D Loss: 0.12711774682005247, AM Loss: 10.26834543546041\n",
            "Epoch: 4740, D Loss: 0.17242666954795519, AM Loss: 10.36452865600586\n",
            "Epoch: 4760, D Loss: 0.2048798305913806, AM Loss: 10.526474714279175\n",
            "Epoch: 4780, D Loss: 0.16995056035617986, AM Loss: 10.163636326789856\n",
            "Epoch: 4800, D Loss: 0.12386549171060324, AM Loss: 10.164119879404703\n",
            "Epoch: 4820, D Loss: 0.12336713479210933, AM Loss: 10.815882722536722\n",
            "Epoch: 4840, D Loss: 0.15742916613817215, AM Loss: 11.394455194473267\n",
            "Epoch: 4860, D Loss: 0.2936865910887718, AM Loss: 10.95155374209086\n",
            "Epoch: 4880, D Loss: 0.19984615283707777, AM Loss: 10.025525291760763\n",
            "Epoch: 4900, D Loss: 0.16207012223700681, AM Loss: 10.612469911575317\n",
            "Epoch: 4920, D Loss: 0.1014295918866992, AM Loss: 10.045145591100058\n",
            "Epoch: 4940, D Loss: 0.15703307542329034, AM Loss: 9.793399294217428\n",
            "Epoch: 4960, D Loss: 0.16165295615792274, AM Loss: 10.35855213801066\n",
            "Epoch: 4980, D Loss: 0.20446163167556128, AM Loss: 9.966182311375936\n",
            "Epoch: 4999, D Loss: 0.14440945877383152, AM Loss: 10.229533513387045\n"
          ],
          "name": "stdout"
        },
        {
          "output_type": "display_data",
          "data": {
            "image/png": "[encoded data removed]",
            "text/plain": [
              "<Figure size 720x72 with 10 Axes>"
            ]
          },
          "metadata": {
            "tags": [],
            "needs_background": "light"
          }
        }
      ]
    },
    {
      "cell_type": "markdown",
      "metadata": {
        "id": "buZGP5s5pD7T"
      },
      "source": [
        ""
      ]
    },
    {
      "cell_type": "code",
      "metadata": {
        "id": "sSQGvJo0KDTd"
      },
      "source": [
        "gan.G.save_weights(\"./gan_g_weights.h5\")"
      ],
      "execution_count": null,
      "outputs": []
    },
    {
      "cell_type": "code",
      "metadata": {
        "id": "fevH-awbKDqj"
      },
      "source": [
        "gan.D.save_weights(\"./gan_d_weights.h5\")"
      ],
      "execution_count": null,
      "outputs": []
    },
    {
      "cell_type": "code",
      "metadata": {
        "id": "14eZR_A1KPsR"
      },
      "source": [
        "! cp gan_d_weights.h5 ./gdrive/MyDrive/saap_pjt_1_thumbnail/weights/\r\n",
        "! cp gan_g_weights.h5 ./gdrive/MyDrive/saap_pjt_1_thumbnail/weights/"
      ],
      "execution_count": null,
      "outputs": []
    },
    {
      "cell_type": "code",
      "metadata": {
        "id": "6r07tWQfLVKb"
      },
      "source": [
        "with open('./gen_images_3232.pickle', 'wb') as f:\r\n",
        "    pickle.dump(gen_imgs, f, pickle.HIGHEST_PROTOCOL)"
      ],
      "execution_count": 38,
      "outputs": []
    },
    {
      "cell_type": "code",
      "metadata": {
        "id": "EDVVr0hlLV_1"
      },
      "source": [
        "! cp gen_images_3232.pickle ./gdrive/MyDrive/saap_pjt_1_thumbnail/weights/"
      ],
      "execution_count": 41,
      "outputs": []
    },
    {
      "cell_type": "code",
      "metadata": {
        "colab": {
          "base_uri": "https://localhost:8080/",
          "height": 105
        },
        "id": "9ldCHkVHMGuO",
        "outputId": "a2d7b57e-a110-436d-bd80-5c2a8167f82d"
      },
      "source": [
        "fake_img = gan.predict(np.random.uniform(-0.4, -0.5, size=[1, 100]) )\r\n",
        "\r\n",
        "fig, ax = plt.subplots(1, 1, figsize=(1, 1)) \r\n",
        "ax.imshow(fake_img.reshape((gan.img_rows, gan.img_cols, gan.channel)), interpolation='nearest'); \r\n",
        "plt.show()\r\n",
        "plt.close(fig); "
      ],
      "execution_count": 28,
      "outputs": [
        {
          "output_type": "display_data",
          "data": {
            "image/png": "[encoded data removed]",
            "text/plain": [
              "<Figure size 72x72 with 1 Axes>"
            ]
          },
          "metadata": {
            "tags": [],
            "needs_background": "light"
          }
        }
      ]
    },
    {
      "cell_type": "code",
      "metadata": {
        "id": "ePd5MwrAMt-K",
        "outputId": "71e4bf54-e161-49f0-b606-c162c8e0530b",
        "colab": {
          "base_uri": "https://localhost:8080/"
        }
      },
      "source": [
        "len(gen_imgs)"
      ],
      "execution_count": 40,
      "outputs": [
        {
          "output_type": "execute_result",
          "data": {
            "text/plain": [
              "251"
            ]
          },
          "metadata": {
            "tags": []
          },
          "execution_count": 40
        }
      ]
    },
    {
      "cell_type": "code",
      "metadata": {
        "id": "fCFNYZ0taBxS"
      },
      "source": [
        ""
      ],
      "execution_count": null,
      "outputs": []
    }
  ]
}